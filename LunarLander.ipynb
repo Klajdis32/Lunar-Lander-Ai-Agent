{
 "cells": [
  {
   "cell_type": "markdown",
   "metadata": {
    "id": "WkqiuKzzKM9k"
   },
   "source": [
    "### Installation of packages/libraries\n",
    "### Εγκατάσταση πακέτων/βιβλιοθηκών"
   ]
  },
  {
   "cell_type": "code",
   "execution_count": 1,
   "metadata": {
    "colab": {
     "base_uri": "https://localhost:8080/"
    },
    "id": "my1uNAFA2Zs5",
    "outputId": "a29e26d1-43af-4b1c-e23f-c70eee1b699d"
   },
   "outputs": [
    {
     "name": "stdout",
     "output_type": "stream",
     "text": [
      "Collecting swig\n",
      "  Downloading swig-4.3.0-py2.py3-none-manylinux_2_5_x86_64.manylinux1_x86_64.whl.metadata (3.5 kB)\n",
      "Downloading swig-4.3.0-py2.py3-none-manylinux_2_5_x86_64.manylinux1_x86_64.whl (1.9 MB)\n",
      "\u001b[2K   \u001b[90m━━━━━━━━━━━━━━━━━━━━━━━━━━━━━━━━━━━━━━━━\u001b[0m \u001b[32m1.9/1.9 MB\u001b[0m \u001b[31m17.9 MB/s\u001b[0m eta \u001b[36m0:00:00\u001b[0m\n",
      "\u001b[?25hInstalling collected packages: swig\n",
      "Successfully installed swig-4.3.0\n"
     ]
    }
   ],
   "source": [
    "!pip install swig"
   ]
  },
  {
   "cell_type": "code",
   "execution_count": 2,
   "metadata": {
    "colab": {
     "base_uri": "https://localhost:8080/"
    },
    "id": "EZxBhYxg2cXr",
    "outputId": "6a9a0cc3-f3a8-4158-bb93-ae6606839932"
   },
   "outputs": [
    {
     "name": "stdout",
     "output_type": "stream",
     "text": [
      "Collecting gymnasium[box2d]\n",
      "  Downloading gymnasium-1.0.0-py3-none-any.whl.metadata (9.5 kB)\n",
      "Requirement already satisfied: numpy>=1.21.0 in /usr/local/lib/python3.10/dist-packages (from gymnasium[box2d]) (1.26.4)\n",
      "Requirement already satisfied: cloudpickle>=1.2.0 in /usr/local/lib/python3.10/dist-packages (from gymnasium[box2d]) (3.1.0)\n",
      "Requirement already satisfied: typing-extensions>=4.3.0 in /usr/local/lib/python3.10/dist-packages (from gymnasium[box2d]) (4.12.2)\n",
      "Collecting farama-notifications>=0.0.1 (from gymnasium[box2d])\n",
      "  Downloading Farama_Notifications-0.0.4-py3-none-any.whl.metadata (558 bytes)\n",
      "Collecting box2d-py==2.3.5 (from gymnasium[box2d])\n",
      "  Downloading box2d-py-2.3.5.tar.gz (374 kB)\n",
      "\u001b[2K     \u001b[90m━━━━━━━━━━━━━━━━━━━━━━━━━━━━━━━━━━━━━━━━\u001b[0m \u001b[32m374.4/374.4 kB\u001b[0m \u001b[31m4.5 MB/s\u001b[0m eta \u001b[36m0:00:00\u001b[0m\n",
      "\u001b[?25h  Preparing metadata (setup.py) ... \u001b[?25l\u001b[?25hdone\n",
      "Requirement already satisfied: pygame>=2.1.3 in /usr/local/lib/python3.10/dist-packages (from gymnasium[box2d]) (2.6.1)\n",
      "Requirement already satisfied: swig==4.* in /usr/local/lib/python3.10/dist-packages (from gymnasium[box2d]) (4.3.0)\n",
      "Downloading Farama_Notifications-0.0.4-py3-none-any.whl (2.5 kB)\n",
      "Downloading gymnasium-1.0.0-py3-none-any.whl (958 kB)\n",
      "\u001b[2K   \u001b[90m━━━━━━━━━━━━━━━━━━━━━━━━━━━━━━━━━━━━━━━━\u001b[0m \u001b[32m958.1/958.1 kB\u001b[0m \u001b[31m13.9 MB/s\u001b[0m eta \u001b[36m0:00:00\u001b[0m\n",
      "\u001b[?25hBuilding wheels for collected packages: box2d-py\n",
      "  Building wheel for box2d-py (setup.py) ... \u001b[?25l\u001b[?25hdone\n",
      "  Created wheel for box2d-py: filename=box2d_py-2.3.5-cp310-cp310-linux_x86_64.whl size=2376421 sha256=05404a9a949e93c4602ae0ce3a2f859cddda4e2d8704a65c8e2e1403fc17b881\n",
      "  Stored in directory: /root/.cache/pip/wheels/db/8f/6a/eaaadf056fba10a98d986f6dce954e6201ba3126926fc5ad9e\n",
      "Successfully built box2d-py\n",
      "Installing collected packages: farama-notifications, box2d-py, gymnasium\n",
      "Successfully installed box2d-py-2.3.5 farama-notifications-0.0.4 gymnasium-1.0.0\n"
     ]
    }
   ],
   "source": [
    "!pip install gymnasium[box2d]"
   ]
  },
  {
   "cell_type": "code",
   "execution_count": 3,
   "metadata": {
    "colab": {
     "base_uri": "https://localhost:8080/"
    },
    "id": "5wxfIoSE2uHU",
    "outputId": "7882bc65-d858-4d23-d2c2-6a15068e0119"
   },
   "outputs": [
    {
     "name": "stdout",
     "output_type": "stream",
     "text": [
      "Collecting ray[rllib]\n",
      "  Downloading ray-2.40.0-cp310-cp310-manylinux2014_x86_64.whl.metadata (17 kB)\n",
      "Requirement already satisfied: click>=7.0 in /usr/local/lib/python3.10/dist-packages (from ray[rllib]) (8.1.7)\n",
      "Requirement already satisfied: filelock in /usr/local/lib/python3.10/dist-packages (from ray[rllib]) (3.16.1)\n",
      "Requirement already satisfied: jsonschema in /usr/local/lib/python3.10/dist-packages (from ray[rllib]) (4.23.0)\n",
      "Requirement already satisfied: msgpack<2.0.0,>=1.0.0 in /usr/local/lib/python3.10/dist-packages (from ray[rllib]) (1.1.0)\n",
      "Requirement already satisfied: packaging in /usr/local/lib/python3.10/dist-packages (from ray[rllib]) (24.2)\n",
      "Requirement already satisfied: protobuf!=3.19.5,>=3.15.3 in /usr/local/lib/python3.10/dist-packages (from ray[rllib]) (4.25.5)\n",
      "Requirement already satisfied: pyyaml in /usr/local/lib/python3.10/dist-packages (from ray[rllib]) (6.0.2)\n",
      "Requirement already satisfied: aiosignal in /usr/local/lib/python3.10/dist-packages (from ray[rllib]) (1.3.1)\n",
      "Requirement already satisfied: frozenlist in /usr/local/lib/python3.10/dist-packages (from ray[rllib]) (1.5.0)\n",
      "Requirement already satisfied: requests in /usr/local/lib/python3.10/dist-packages (from ray[rllib]) (2.32.3)\n",
      "Requirement already satisfied: pandas in /usr/local/lib/python3.10/dist-packages (from ray[rllib]) (2.2.2)\n",
      "Collecting tensorboardX>=1.9 (from ray[rllib])\n",
      "  Downloading tensorboardX-2.6.2.2-py2.py3-none-any.whl.metadata (5.8 kB)\n",
      "Requirement already satisfied: pyarrow>=9.0.0 in /usr/local/lib/python3.10/dist-packages (from ray[rllib]) (17.0.0)\n",
      "Requirement already satisfied: fsspec in /usr/local/lib/python3.10/dist-packages (from ray[rllib]) (2024.10.0)\n",
      "Requirement already satisfied: dm-tree in /usr/local/lib/python3.10/dist-packages (from ray[rllib]) (0.1.8)\n",
      "Requirement already satisfied: gymnasium==1.0.0 in /usr/local/lib/python3.10/dist-packages (from ray[rllib]) (1.0.0)\n",
      "Collecting lz4 (from ray[rllib])\n",
      "  Downloading lz4-4.3.3-cp310-cp310-manylinux_2_17_x86_64.manylinux2014_x86_64.whl.metadata (3.7 kB)\n",
      "Requirement already satisfied: scikit-image in /usr/local/lib/python3.10/dist-packages (from ray[rllib]) (0.24.0)\n",
      "Requirement already satisfied: scipy in /usr/local/lib/python3.10/dist-packages (from ray[rllib]) (1.13.1)\n",
      "Requirement already satisfied: typer in /usr/local/lib/python3.10/dist-packages (from ray[rllib]) (0.15.1)\n",
      "Requirement already satisfied: rich in /usr/local/lib/python3.10/dist-packages (from ray[rllib]) (13.9.4)\n",
      "Requirement already satisfied: numpy>=1.21.0 in /usr/local/lib/python3.10/dist-packages (from gymnasium==1.0.0->ray[rllib]) (1.26.4)\n",
      "Requirement already satisfied: cloudpickle>=1.2.0 in /usr/local/lib/python3.10/dist-packages (from gymnasium==1.0.0->ray[rllib]) (3.1.0)\n",
      "Requirement already satisfied: typing-extensions>=4.3.0 in /usr/local/lib/python3.10/dist-packages (from gymnasium==1.0.0->ray[rllib]) (4.12.2)\n",
      "Requirement already satisfied: farama-notifications>=0.0.1 in /usr/local/lib/python3.10/dist-packages (from gymnasium==1.0.0->ray[rllib]) (0.0.4)\n",
      "Requirement already satisfied: attrs>=22.2.0 in /usr/local/lib/python3.10/dist-packages (from jsonschema->ray[rllib]) (24.2.0)\n",
      "Requirement already satisfied: jsonschema-specifications>=2023.03.6 in /usr/local/lib/python3.10/dist-packages (from jsonschema->ray[rllib]) (2024.10.1)\n",
      "Requirement already satisfied: referencing>=0.28.4 in /usr/local/lib/python3.10/dist-packages (from jsonschema->ray[rllib]) (0.35.1)\n",
      "Requirement already satisfied: rpds-py>=0.7.1 in /usr/local/lib/python3.10/dist-packages (from jsonschema->ray[rllib]) (0.22.3)\n",
      "Requirement already satisfied: python-dateutil>=2.8.2 in /usr/local/lib/python3.10/dist-packages (from pandas->ray[rllib]) (2.8.2)\n",
      "Requirement already satisfied: pytz>=2020.1 in /usr/local/lib/python3.10/dist-packages (from pandas->ray[rllib]) (2024.2)\n",
      "Requirement already satisfied: tzdata>=2022.7 in /usr/local/lib/python3.10/dist-packages (from pandas->ray[rllib]) (2024.2)\n",
      "Requirement already satisfied: charset-normalizer<4,>=2 in /usr/local/lib/python3.10/dist-packages (from requests->ray[rllib]) (3.4.0)\n",
      "Requirement already satisfied: idna<4,>=2.5 in /usr/local/lib/python3.10/dist-packages (from requests->ray[rllib]) (3.10)\n",
      "Requirement already satisfied: urllib3<3,>=1.21.1 in /usr/local/lib/python3.10/dist-packages (from requests->ray[rllib]) (2.2.3)\n",
      "Requirement already satisfied: certifi>=2017.4.17 in /usr/local/lib/python3.10/dist-packages (from requests->ray[rllib]) (2024.8.30)\n",
      "Requirement already satisfied: markdown-it-py>=2.2.0 in /usr/local/lib/python3.10/dist-packages (from rich->ray[rllib]) (3.0.0)\n",
      "Requirement already satisfied: pygments<3.0.0,>=2.13.0 in /usr/local/lib/python3.10/dist-packages (from rich->ray[rllib]) (2.18.0)\n",
      "Requirement already satisfied: networkx>=2.8 in /usr/local/lib/python3.10/dist-packages (from scikit-image->ray[rllib]) (3.4.2)\n",
      "Requirement already satisfied: pillow>=9.1 in /usr/local/lib/python3.10/dist-packages (from scikit-image->ray[rllib]) (11.0.0)\n",
      "Requirement already satisfied: imageio>=2.33 in /usr/local/lib/python3.10/dist-packages (from scikit-image->ray[rllib]) (2.36.1)\n",
      "Requirement already satisfied: tifffile>=2022.8.12 in /usr/local/lib/python3.10/dist-packages (from scikit-image->ray[rllib]) (2024.9.20)\n",
      "Requirement already satisfied: lazy-loader>=0.4 in /usr/local/lib/python3.10/dist-packages (from scikit-image->ray[rllib]) (0.4)\n",
      "Requirement already satisfied: shellingham>=1.3.0 in /usr/local/lib/python3.10/dist-packages (from typer->ray[rllib]) (1.5.4)\n",
      "Requirement already satisfied: mdurl~=0.1 in /usr/local/lib/python3.10/dist-packages (from markdown-it-py>=2.2.0->rich->ray[rllib]) (0.1.2)\n",
      "Requirement already satisfied: six>=1.5 in /usr/local/lib/python3.10/dist-packages (from python-dateutil>=2.8.2->pandas->ray[rllib]) (1.17.0)\n",
      "Downloading tensorboardX-2.6.2.2-py2.py3-none-any.whl (101 kB)\n",
      "\u001b[2K   \u001b[90m━━━━━━━━━━━━━━━━━━━━━━━━━━━━━━━━━━━━━━━━\u001b[0m \u001b[32m101.7/101.7 kB\u001b[0m \u001b[31m7.1 MB/s\u001b[0m eta \u001b[36m0:00:00\u001b[0m\n",
      "\u001b[?25hDownloading lz4-4.3.3-cp310-cp310-manylinux_2_17_x86_64.manylinux2014_x86_64.whl (1.3 MB)\n",
      "\u001b[2K   \u001b[90m━━━━━━━━━━━━━━━━━━━━━━━━━━━━━━━━━━━━━━━━\u001b[0m \u001b[32m1.3/1.3 MB\u001b[0m \u001b[31m24.7 MB/s\u001b[0m eta \u001b[36m0:00:00\u001b[0m\n",
      "\u001b[?25hDownloading ray-2.40.0-cp310-cp310-manylinux2014_x86_64.whl (66.8 MB)\n",
      "\u001b[2K   \u001b[90m━━━━━━━━━━━━━━━━━━━━━━━━━━━━━━━━━━━━━━━━\u001b[0m \u001b[32m66.8/66.8 MB\u001b[0m \u001b[31m10.3 MB/s\u001b[0m eta \u001b[36m0:00:00\u001b[0m\n",
      "\u001b[?25hInstalling collected packages: tensorboardX, lz4, ray\n",
      "Successfully installed lz4-4.3.3 ray-2.40.0 tensorboardX-2.6.2.2\n"
     ]
    }
   ],
   "source": [
    "!pip install ray[rllib]"
   ]
  },
  {
   "cell_type": "code",
   "execution_count": 4,
   "metadata": {
    "colab": {
     "base_uri": "https://localhost:8080/"
    },
    "id": "YuVUtf3N2zai",
    "outputId": "e52863a1-e92b-4cfe-f40a-2ee36fd0a83a"
   },
   "outputs": [
    {
     "name": "stdout",
     "output_type": "stream",
     "text": [
      "Collecting renderlab\n",
      "  Downloading renderlab-0.1.20230421184216-py3-none-any.whl.metadata (1.9 kB)\n",
      "Requirement already satisfied: moviepy in /usr/local/lib/python3.10/dist-packages (from renderlab) (1.0.3)\n",
      "Requirement already satisfied: gymnasium in /usr/local/lib/python3.10/dist-packages (from renderlab) (1.0.0)\n",
      "Requirement already satisfied: numpy>=1.21.0 in /usr/local/lib/python3.10/dist-packages (from gymnasium->renderlab) (1.26.4)\n",
      "Requirement already satisfied: cloudpickle>=1.2.0 in /usr/local/lib/python3.10/dist-packages (from gymnasium->renderlab) (3.1.0)\n",
      "Requirement already satisfied: typing-extensions>=4.3.0 in /usr/local/lib/python3.10/dist-packages (from gymnasium->renderlab) (4.12.2)\n",
      "Requirement already satisfied: farama-notifications>=0.0.1 in /usr/local/lib/python3.10/dist-packages (from gymnasium->renderlab) (0.0.4)\n",
      "Requirement already satisfied: decorator<5.0,>=4.0.2 in /usr/local/lib/python3.10/dist-packages (from moviepy->renderlab) (4.4.2)\n",
      "Requirement already satisfied: imageio<3.0,>=2.5 in /usr/local/lib/python3.10/dist-packages (from moviepy->renderlab) (2.36.1)\n",
      "Requirement already satisfied: imageio_ffmpeg>=0.2.0 in /usr/local/lib/python3.10/dist-packages (from moviepy->renderlab) (0.5.1)\n",
      "Requirement already satisfied: tqdm<5.0,>=4.11.2 in /usr/local/lib/python3.10/dist-packages (from moviepy->renderlab) (4.66.6)\n",
      "Requirement already satisfied: requests<3.0,>=2.8.1 in /usr/local/lib/python3.10/dist-packages (from moviepy->renderlab) (2.32.3)\n",
      "Requirement already satisfied: proglog<=1.0.0 in /usr/local/lib/python3.10/dist-packages (from moviepy->renderlab) (0.1.10)\n",
      "Requirement already satisfied: pillow>=8.3.2 in /usr/local/lib/python3.10/dist-packages (from imageio<3.0,>=2.5->moviepy->renderlab) (11.0.0)\n",
      "Requirement already satisfied: setuptools in /usr/local/lib/python3.10/dist-packages (from imageio_ffmpeg>=0.2.0->moviepy->renderlab) (75.1.0)\n",
      "Requirement already satisfied: charset-normalizer<4,>=2 in /usr/local/lib/python3.10/dist-packages (from requests<3.0,>=2.8.1->moviepy->renderlab) (3.4.0)\n",
      "Requirement already satisfied: idna<4,>=2.5 in /usr/local/lib/python3.10/dist-packages (from requests<3.0,>=2.8.1->moviepy->renderlab) (3.10)\n",
      "Requirement already satisfied: urllib3<3,>=1.21.1 in /usr/local/lib/python3.10/dist-packages (from requests<3.0,>=2.8.1->moviepy->renderlab) (2.2.3)\n",
      "Requirement already satisfied: certifi>=2017.4.17 in /usr/local/lib/python3.10/dist-packages (from requests<3.0,>=2.8.1->moviepy->renderlab) (2024.8.30)\n",
      "Downloading renderlab-0.1.20230421184216-py3-none-any.whl (4.0 kB)\n",
      "Installing collected packages: renderlab\n",
      "Successfully installed renderlab-0.1.20230421184216\n"
     ]
    }
   ],
   "source": [
    "!pip install renderlab"
   ]
  },
  {
   "cell_type": "markdown",
   "metadata": {
    "id": "fGSM-op7KjLw"
   },
   "source": [
    "### Importing libraries \n",
    "### Εισαγωγή βιβλιοθηκών"
   ]
  },
  {
   "cell_type": "code",
   "execution_count": 5,
   "metadata": {
    "colab": {
     "base_uri": "https://localhost:8080/"
    },
    "id": "O9kTea6X3cMB",
    "outputId": "9d713948-1782-43e8-f47b-6ec090a6cf69"
   },
   "outputs": [
    {
     "name": "stderr",
     "output_type": "stream",
     "text": [
      "WARNING:py.warnings:/usr/local/lib/python3.10/dist-packages/moviepy/video/io/sliders.py:61: SyntaxWarning: \"is\" with a literal. Did you mean \"==\"?\n",
      "  if event.key is 'enter':\n",
      "\n"
     ]
    }
   ],
   "source": [
    "import gymnasium as gym\n",
    "import ray\n",
    "import matplotlib.pyplot as plt\n",
    "import torch\n",
    "import os\n",
    "import renderlab as rl\n",
    "import imageio\n",
    "from moviepy.editor import VideoFileClip, concatenate_videoclips\n",
    "from ray.rllib.algorithms.ppo import PPOConfig, PPO"
   ]
  },
  {
   "cell_type": "markdown",
   "metadata": {
    "id": "LPQwGwxlLVx3"
   },
   "source": [
    "### Initialization of Ray and creation of a PPO agent using PyTorch for the LunarLander-v3 environment, with configuration of training hyperparameters.\n",
    "\n",
    "### Αρχικοποίηση του Ray και δημιουργία πράκτορα PPO με χρήση PyTorch για το περιβάλλον LunarLander-v3, με ρύθμιση των υπερπαραμέτρων εκπαίδευσης."
   ]
  },
  {
   "cell_type": "code",
   "execution_count": 6,
   "metadata": {
    "colab": {
     "base_uri": "https://localhost:8080/"
    },
    "id": "JLfLHvPk3iCp",
    "outputId": "28b5af3d-914a-4d30-d061-d38e36574055"
   },
   "outputs": [
    {
     "name": "stderr",
     "output_type": "stream",
     "text": [
      "2024-12-17 11:45:10,934\tINFO worker.py:1821 -- Started a local Ray instance.\n",
      "2024-12-17 11:45:39,724\tINFO trainable.py:161 -- Trainable.setup took 25.687 seconds. If your trainable is slow to initialize, consider setting reuse_actors=True to reduce actor creation overheads.\n",
      "2024-12-17 11:45:39,726\tWARNING util.py:61 -- Install gputil for GPU system monitoring.\n"
     ]
    }
   ],
   "source": [
    "ray.shutdown()\n",
    "ray.init()\n",
    "\n",
    "config = PPOConfig()\n",
    "config.use_critic = True\n",
    "config.use_gae = True\n",
    "config.lambda_ = 0.9\n",
    "config.use_kl_loss = True\n",
    "config.sgd_minibatch_size = 32\n",
    "config.num_sgd_iter = 1\n",
    "config.shuffle_sequences = True\n",
    "config.vf_loss_coeff = 0.5\n",
    "config.entropy_coeff = 0.001\n",
    "config.clip_param = 0.2\n",
    "\n",
    "# Απενεργοποίηση του νέου API stack\n",
    "config.api_stack(enable_rl_module_and_learner=False, enable_env_runner_and_connector_v2=False)\n",
    "\n",
    "config = config.environment(\"LunarLander-v3\")\n",
    "config = config.framework(\"torch\")\n",
    "\n",
    "agent = config.build()"
   ]
  },
  {
   "cell_type": "markdown",
   "metadata": {
    "id": "eChcSsVRLrc5"
   },
   "source": [
    "### Execution of 100 training iterations for the agent, recording the average rewards per iteration in a list, and creating a plot to visualize the improvement of rewards during training. \n",
    "\n",
    "### Εκτέλεση 100 training iterations για τον πράκτορα, καταγραφή των μέσων ανταμοιβών ανά iteration σε λίστα και δημιουργία διαγράμματος για την απεικόνιση της βελτίωσης των ανταμοιβών κατά τη διάρκεια της εκπαίδευσης."
   ]
  },
  {
   "cell_type": "code",
   "execution_count": 7,
   "metadata": {
    "colab": {
     "base_uri": "https://localhost:8080/",
     "height": 1000
    },
    "id": "0XnUKrVFD-H0",
    "outputId": "d6e65174-367d-400d-9023-1c8982dc50fa"
   },
   "outputs": [
    {
     "name": "stderr",
     "output_type": "stream",
     "text": [
      "2024-12-17 11:46:19,507\tWARNING deprecation.py:50 -- DeprecationWarning: `ray.rllib.execution.train_ops.multi_gpu_train_one_step` has been deprecated. This will raise an error in the future!\n"
     ]
    },
    {
     "name": "stdout",
     "output_type": "stream",
     "text": [
      "Iteration 1, Average Rewards: -168.24110057896894\n",
      "Iteration 2, Average Rewards: -155.80553547590623\n",
      "Iteration 3, Average Rewards: -145.14148865977435\n",
      "Iteration 4, Average Rewards: -132.14385740331576\n",
      "Iteration 5, Average Rewards: -120.00289407210876\n",
      "Iteration 6, Average Rewards: -104.14069442476917\n",
      "Iteration 7, Average Rewards: -99.24053078218694\n",
      "Iteration 8, Average Rewards: -103.4033344532294\n",
      "Iteration 9, Average Rewards: -98.10518520652387\n",
      "Iteration 10, Average Rewards: -97.37477638246509\n",
      "Iteration 11, Average Rewards: -91.52454664438582\n",
      "Iteration 12, Average Rewards: -91.53298823575817\n",
      "Iteration 13, Average Rewards: -84.73991715068082\n",
      "Iteration 14, Average Rewards: -77.84908607988157\n",
      "Iteration 15, Average Rewards: -70.91640142022096\n",
      "Iteration 16, Average Rewards: -67.28061206616093\n",
      "Iteration 17, Average Rewards: -63.697055877077\n",
      "Iteration 18, Average Rewards: -57.00238471419293\n",
      "Iteration 19, Average Rewards: -52.6781486702093\n",
      "Iteration 20, Average Rewards: -47.561547693668075\n",
      "Iteration 21, Average Rewards: -41.1465856525826\n",
      "Iteration 22, Average Rewards: -37.24182412526762\n",
      "Iteration 23, Average Rewards: -34.553979724060085\n",
      "Iteration 24, Average Rewards: -27.41798343213035\n",
      "Iteration 25, Average Rewards: -20.913210630898238\n",
      "Iteration 26, Average Rewards: -19.40519730253717\n",
      "Iteration 27, Average Rewards: -18.405945343201864\n",
      "Iteration 28, Average Rewards: -7.828913340085182\n",
      "Iteration 29, Average Rewards: -0.9635002002548703\n",
      "Iteration 30, Average Rewards: 10.593390162460516\n",
      "Iteration 31, Average Rewards: 19.533130546208106\n",
      "Iteration 32, Average Rewards: 23.20142505622488\n",
      "Iteration 33, Average Rewards: 30.157325540756364\n",
      "Iteration 34, Average Rewards: 39.991402868030484\n",
      "Iteration 35, Average Rewards: 45.87480594013726\n",
      "Iteration 36, Average Rewards: 50.95446342921796\n",
      "Iteration 37, Average Rewards: 55.03121316785763\n",
      "Iteration 38, Average Rewards: 58.31327895837448\n",
      "Iteration 39, Average Rewards: 60.811691236830974\n",
      "Iteration 40, Average Rewards: 65.33055697186381\n",
      "Iteration 41, Average Rewards: 68.32571884954105\n",
      "Iteration 42, Average Rewards: 72.4116588984403\n",
      "Iteration 43, Average Rewards: 74.64428884889995\n",
      "Iteration 44, Average Rewards: 77.27342685795088\n",
      "Iteration 45, Average Rewards: 78.59343762008444\n",
      "Iteration 46, Average Rewards: 80.6352786861363\n",
      "Iteration 47, Average Rewards: 87.18000489745891\n",
      "Iteration 48, Average Rewards: 90.21956822387997\n",
      "Iteration 49, Average Rewards: 91.111543748715\n",
      "Iteration 50, Average Rewards: 92.05151690025366\n",
      "Iteration 51, Average Rewards: 95.29723446930934\n",
      "Iteration 52, Average Rewards: 95.91609026031105\n",
      "Iteration 53, Average Rewards: 101.39965470279685\n",
      "Iteration 54, Average Rewards: 100.56911535436258\n",
      "Iteration 55, Average Rewards: 98.08087755278005\n",
      "Iteration 56, Average Rewards: 102.82547285623097\n",
      "Iteration 57, Average Rewards: 107.0755053616254\n",
      "Iteration 58, Average Rewards: 105.30311490103558\n",
      "Iteration 59, Average Rewards: 104.84333884859059\n",
      "Iteration 60, Average Rewards: 109.93063810362104\n",
      "Iteration 61, Average Rewards: 110.30424219881624\n",
      "Iteration 62, Average Rewards: 111.6390670468777\n",
      "Iteration 63, Average Rewards: 114.12181868418298\n",
      "Iteration 64, Average Rewards: 116.22700937560721\n",
      "Iteration 65, Average Rewards: 120.37224612209393\n",
      "Iteration 66, Average Rewards: 121.24129040646123\n",
      "Iteration 67, Average Rewards: 129.51689523864513\n",
      "Iteration 68, Average Rewards: 128.9646884689586\n",
      "Iteration 69, Average Rewards: 129.69908860474783\n",
      "Iteration 70, Average Rewards: 131.67103886222074\n",
      "Iteration 71, Average Rewards: 135.3243150786262\n",
      "Iteration 72, Average Rewards: 137.3503777246606\n",
      "Iteration 73, Average Rewards: 140.93041637727418\n",
      "Iteration 74, Average Rewards: 136.7644159404595\n",
      "Iteration 75, Average Rewards: 142.02773081599605\n",
      "Iteration 76, Average Rewards: 140.95185871627257\n",
      "Iteration 77, Average Rewards: 143.44119802416884\n",
      "Iteration 78, Average Rewards: 141.23684219845106\n",
      "Iteration 79, Average Rewards: 142.8081586731353\n",
      "Iteration 80, Average Rewards: 143.15789854224153\n",
      "Iteration 81, Average Rewards: 139.25381857291543\n",
      "Iteration 82, Average Rewards: 139.63276932861547\n",
      "Iteration 83, Average Rewards: 134.2278746174124\n",
      "Iteration 84, Average Rewards: 122.08760505560225\n",
      "Iteration 85, Average Rewards: 121.20649301597537\n",
      "Iteration 86, Average Rewards: 122.17497746492569\n",
      "Iteration 87, Average Rewards: 128.27474774848883\n",
      "Iteration 88, Average Rewards: 134.18235404428913\n",
      "Iteration 89, Average Rewards: 134.83585943273684\n",
      "Iteration 90, Average Rewards: 141.954791066427\n",
      "Iteration 91, Average Rewards: 142.97571498952087\n",
      "Iteration 92, Average Rewards: 138.1318019909768\n",
      "Iteration 93, Average Rewards: 134.6728697180439\n",
      "Iteration 94, Average Rewards: 130.9541534298849\n",
      "Iteration 95, Average Rewards: 133.40095589940904\n",
      "Iteration 96, Average Rewards: 143.88317883386236\n",
      "Iteration 97, Average Rewards: 145.18388565924405\n",
      "Iteration 98, Average Rewards: 149.2922160090317\n",
      "Iteration 99, Average Rewards: 143.98511569960698\n",
      "Iteration 100, Average Rewards: 136.41454645470156\n"
     ]
    },
    {
     "data": {
      "image/png": "[encoded data removed]",
      "text/plain": [
       "<Figure size 640x480 with 1 Axes>"
      ]
     },
     "metadata": {},
     "output_type": "display_data"
    }
   ],
   "source": [
    "# Αριθμός training iterations\n",
    "train_iterations = 100\n",
    "\n",
    "# Λίστα για την αποθήκευση των μέσων ανταμοιβών\n",
    "average_rewards_per_iteration = []\n",
    "\n",
    "for i in range(train_iterations):\n",
    "    result = agent.train()  # Εκτέλεση ενός training iteration\n",
    "    average_rewards = result[\"env_runners\"][\"episode_return_mean\"]  # Μέσο reward για αυτό το iteration\n",
    "    average_rewards_per_iteration.append(average_rewards)\n",
    "\n",
    "    print(f\"Iteration {i + 1}, Average Rewards: {average_rewards}\")\n",
    "\n",
    "# Plot των μέσων ανταμοιβών\n",
    "plt.plot(average_rewards_per_iteration)\n",
    "plt.title('PPO LunarLander-v3')\n",
    "plt.xlabel('Iterations')\n",
    "plt.ylabel('Average Rewards')\n",
    "plt.show()"
   ]
  },
  {
   "cell_type": "markdown",
   "metadata": {
    "id": "m2EwCFErOilL"
   },
   "source": [
    "### Saving the agent \n",
    "### Αποθήκευση πράκτορα"
   ]
  },
  {
   "cell_type": "code",
   "execution_count": 8,
   "metadata": {
    "colab": {
     "base_uri": "https://localhost:8080/"
    },
    "id": "VydSWiMYTsGP",
    "outputId": "9b8b69b2-517b-406d-b23d-94e1ad7157cc"
   },
   "outputs": [
    {
     "name": "stdout",
     "output_type": "stream",
     "text": [
      "Model saved at: TrainingResult(checkpoint=Checkpoint(filesystem=local, path=/content/ppo_lunarlander_model), metrics={'custom_metrics': {}, 'episode_media': {}, 'info': {'learner': {'default_policy': {'learner_stats': {'allreduce_latency': 0.0, 'grad_gnorm': 8.841841732878839, 'cur_kl_coeff': 0.00021972656250000006, 'cur_lr': 5.0000000000000016e-05, 'total_loss': 1.771993217993808, 'policy_loss': -0.009155504870158369, 'vf_loss': 3.563600191417881, 'vf_explained_var': 0.5517133703795812, 'kl': 0.005159308674563093, 'entropy': 0.6525015021203666, 'entropy_coeff': 0.0010000000000000005}, 'model': {}, 'custom_metrics': {}, 'num_agent_steps_trained': 128.0, 'num_grad_updates_lifetime': 92535.5, 'diff_num_grad_updates_vs_sampler_policy': 464.5}}, 'num_env_steps_sampled': 400000, 'num_env_steps_trained': 400000, 'num_agent_steps_sampled': 400000, 'num_agent_steps_trained': 400000}, 'env_runners': {'episode_reward_max': 287.4544849035988, 'episode_reward_min': -178.9067482720577, 'episode_reward_mean': 136.41454645470156, 'episode_len_mean': 491.48, 'episode_media': {}, 'episodes_timesteps_total': 49148, 'policy_reward_min': {'default_policy': -178.9067482720577}, 'policy_reward_max': {'default_policy': 287.4544849035988}, 'policy_reward_mean': {'default_policy': 136.41454645470156}, 'custom_metrics': {}, 'hist_stats': {'episode_reward': [203.16599872438877, 192.9903837578404, 142.8320067612875, 183.89585450827164, 102.04828754854914, 213.7722930040843, -44.919749201894234, 181.38546357930352, 271.1754734135237, 218.3147206357141, 107.79224880941443, 231.534487625101, 221.9502992164944, 217.61315899848347, 202.45581833415568, 167.78488955876128, 221.8235714341659, 87.00923927833378, 214.52947362335271, 207.70746044903757, 271.09202016746997, 194.24344086141605, 208.42124464881772, 142.95514064680248, -38.75430297332569, 100.6428186944396, 179.92212573064978, 48.50458464859595, 56.14376063882736, 200.09985593909897, 163.00459192343425, 216.1563485279055, -36.30473610667816, -22.338644767991795, 59.748218193963154, -8.817361283950802, 190.86047371828707, 195.48793697690988, -63.709447884486025, 64.75110816501073, 205.15814156874222, -69.2799758788548, 244.5260449654134, 231.59782285912988, -29.016576297128935, 176.6952149698568, 199.87541381971405, 85.59974211956407, 207.4608372879528, -65.11841229959332, -64.72464222446035, 83.34957929437148, 175.9696854885987, 221.96674646704054, 157.59073215073036, 139.5136684518775, 143.7401940343025, 65.69118117488149, 0.9038117460703177, 202.11796424615912, 262.68422235683715, 171.60798019481055, 248.44295464498603, 172.91911795190205, 169.7545033310941, 193.71227572610843, 201.19525537149423, 49.19633146681345, 222.52576579112701, 202.39754602482634, 189.75319625582867, 125.72902868339374, 73.87065590264852, 92.95113927371182, 220.86556538847702, -27.419076931522895, 287.4544849035988, 241.2553413669523, -31.739091045354826, 176.36516801679477, 232.94001695223932, 201.0866636735218, -44.59688351440465, 100.04585833268574, 211.24186189508305, -33.87627896112214, 200.17481461152397, 197.51265478425978, 164.77255458363604, 213.47174685023163, 172.40106848794045, 234.3810557007655, -42.89148026798847, 192.23516075955928, 202.55380349925628, 96.8889024385746, 185.00898643707507, -55.020543606785935, 167.921335943705, -178.9067482720577], 'episode_lengths': [362, 299, 609, 454, 800, 420, 388, 464, 339, 546, 1000, 412, 396, 335, 376, 378, 580, 1000, 409, 696, 284, 483, 355, 1000, 359, 1000, 337, 1000, 1000, 386, 314, 342, 221, 300, 1000, 341, 385, 416, 300, 1000, 363, 339, 383, 364, 408, 337, 416, 1000, 348, 336, 273, 1000, 401, 354, 488, 379, 527, 1000, 225, 568, 369, 348, 341, 436, 847, 439, 483, 1000, 364, 369, 314, 485, 1000, 1000, 407, 316, 295, 371, 247, 941, 471, 410, 237, 1000, 378, 261, 375, 317, 325, 351, 362, 340, 295, 298, 356, 1000, 382, 337, 374, 312], 'policy_default_policy_reward': [203.16599872438877, 192.9903837578404, 142.8320067612875, 183.89585450827164, 102.04828754854914, 213.7722930040843, -44.919749201894234, 181.38546357930352, 271.1754734135237, 218.3147206357141, 107.79224880941443, 231.534487625101, 221.9502992164944, 217.61315899848347, 202.45581833415568, 167.78488955876128, 221.8235714341659, 87.00923927833378, 214.52947362335271, 207.70746044903757, 271.09202016746997, 194.24344086141605, 208.42124464881772, 142.95514064680248, -38.75430297332569, 100.6428186944396, 179.92212573064978, 48.50458464859595, 56.14376063882736, 200.09985593909897, 163.00459192343425, 216.1563485279055, -36.30473610667816, -22.338644767991795, 59.748218193963154, -8.817361283950802, 190.86047371828707, 195.48793697690988, -63.709447884486025, 64.75110816501073, 205.15814156874222, -69.2799758788548, 244.5260449654134, 231.59782285912988, -29.016576297128935, 176.6952149698568, 199.87541381971405, 85.59974211956407, 207.4608372879528, -65.11841229959332, -64.72464222446035, 83.34957929437148, 175.9696854885987, 221.96674646704054, 157.59073215073036, 139.5136684518775, 143.7401940343025, 65.69118117488149, 0.9038117460703177, 202.11796424615912, 262.68422235683715, 171.60798019481055, 248.44295464498603, 172.91911795190205, 169.7545033310941, 193.71227572610843, 201.19525537149423, 49.19633146681345, 222.52576579112701, 202.39754602482634, 189.75319625582867, 125.72902868339374, 73.87065590264852, 92.95113927371182, 220.86556538847702, -27.419076931522895, 287.4544849035988, 241.2553413669523, -31.739091045354826, 176.36516801679477, 232.94001695223932, 201.0866636735218, -44.59688351440465, 100.04585833268574, 211.24186189508305, -33.87627896112214, 200.17481461152397, 197.51265478425978, 164.77255458363604, 213.47174685023163, 172.40106848794045, 234.3810557007655, -42.89148026798847, 192.23516075955928, 202.55380349925628, 96.8889024385746, 185.00898643707507, -55.020543606785935, 167.921335943705, -178.9067482720577]}, 'sampler_perf': {'mean_raw_obs_processing_ms': 0.7756766975712567, 'mean_inference_ms': 2.811130630558132, 'mean_action_processing_ms': 0.3119306737201383, 'mean_env_wait_ms': 0.3421101632889308, 'mean_env_render_ms': 0.0}, 'num_faulty_episodes': 0, 'connector_metrics': {'ObsPreprocessorConnector_ms': 0.02065730094909668, 'StateBufferConnector_ms': 0.010791540145874023, 'ViewRequirementAgentConnector_ms': 0.2987804412841797}, 'num_episodes': 11, 'episode_return_max': 287.4544849035988, 'episode_return_min': -178.9067482720577, 'episode_return_mean': 136.41454645470156, 'episodes_this_iter': 11}, 'num_healthy_workers': 2, 'num_in_flight_async_sample_reqs': 0, 'num_remote_worker_restarts': 0, 'num_agent_steps_sampled': 400000, 'num_agent_steps_trained': 400000, 'num_env_steps_sampled': 400000, 'num_env_steps_trained': 400000, 'num_env_steps_sampled_this_iter': 4000, 'num_env_steps_trained_this_iter': 4000, 'num_env_steps_sampled_throughput_per_sec': 196.0831558591492, 'num_env_steps_trained_throughput_per_sec': 196.0831558591492, 'timesteps_total': 400000, 'num_env_steps_sampled_lifetime': 400000, 'num_agent_steps_sampled_lifetime': 400000, 'num_steps_trained_this_iter': 4000, 'agent_timesteps_total': 400000, 'timers': {'training_iteration_time_ms': 20382.375, 'restore_workers_time_ms': 0.029, 'training_step_time_ms': 20382.271, 'sample_time_ms': 8709.761, 'load_time_ms': 0.717, 'load_throughput': 5581614.213, 'learn_time_ms': 11652.875, 'learn_throughput': 343.263, 'synch_weights_time_ms': 17.375}, 'counters': {'num_env_steps_sampled': 400000, 'num_env_steps_trained': 400000, 'num_agent_steps_sampled': 400000, 'num_agent_steps_trained': 400000}, 'done': False, 'training_iteration': 100, 'trial_id': 'default', 'date': '2024-12-17_12-20-14', 'timestamp': 1734438014, 'time_this_iter_s': 20.41209316253662, 'time_total_s': 2038.6079742908478, 'pid': 147, 'hostname': '767b00643f2f', 'node_ip': '172.28.0.12', 'config': {'exploration_config': {'type': 'StochasticSampling'}, 'extra_python_environs_for_driver': {}, 'extra_python_environs_for_worker': {}, 'placement_strategy': 'PACK', 'num_gpus': 0, '_fake_gpus': False, 'num_cpus_for_main_process': 1, 'eager_tracing': True, 'eager_max_retraces': 20, 'tf_session_args': {'intra_op_parallelism_threads': 2, 'inter_op_parallelism_threads': 2, 'gpu_options': {'allow_growth': True}, 'log_device_placement': False, 'device_count': {'CPU': 1}, 'allow_soft_placement': True}, 'local_tf_session_args': {'intra_op_parallelism_threads': 8, 'inter_op_parallelism_threads': 8}, 'torch_compile_learner': False, 'torch_compile_learner_what_to_compile': <TorchCompileWhatToCompile.FORWARD_TRAIN: 'forward_train'>, 'torch_compile_learner_dynamo_backend': 'inductor', 'torch_compile_learner_dynamo_mode': None, 'torch_compile_worker': False, 'torch_compile_worker_dynamo_backend': 'onnxrt', 'torch_compile_worker_dynamo_mode': None, 'torch_ddp_kwargs': {}, 'torch_skip_nan_gradients': False, 'env': 'LunarLander-v3', 'env_config': {}, 'observation_space': None, 'action_space': None, 'clip_rewards': None, 'normalize_actions': True, 'clip_actions': False, '_is_atari': None, 'disable_env_checking': False, 'env_task_fn': None, 'render_env': False, 'action_mask_key': 'action_mask', 'env_runner_cls': None, 'num_env_runners': 2, 'num_envs_per_env_runner': 1, 'num_cpus_per_env_runner': 1, 'num_gpus_per_env_runner': 0, 'custom_resources_per_env_runner': {}, 'validate_env_runners_after_construction': True, 'max_requests_in_flight_per_env_runner': 1, 'sample_timeout_s': 60.0, '_env_to_module_connector': None, 'add_default_connectors_to_env_to_module_pipeline': True, '_module_to_env_connector': None, 'add_default_connectors_to_module_to_env_pipeline': True, 'episode_lookback_horizon': 1, 'rollout_fragment_length': 'auto', 'batch_mode': 'truncate_episodes', 'compress_observations': False, 'remote_worker_envs': False, 'remote_env_batch_wait_ms': 0, 'enable_tf1_exec_eagerly': False, 'sample_collector': <class 'ray.rllib.evaluation.collectors.simple_list_collector.SimpleListCollector'>, 'preprocessor_pref': 'deepmind', 'observation_filter': 'NoFilter', 'update_worker_filter_stats': True, 'use_worker_filter_stats': True, 'sampler_perf_stats_ema_coef': None, 'num_learners': 0, 'num_gpus_per_learner': 0, 'num_cpus_per_learner': 1, 'local_gpu_idx': 0, 'max_requests_in_flight_per_learner': 3, 'gamma': 0.99, 'lr': 5e-05, 'grad_clip': None, 'grad_clip_by': 'global_norm', 'train_batch_size_per_learner': None, 'train_batch_size': 4000, 'num_epochs': 30, 'minibatch_size': 128, 'shuffle_batch_per_epoch': True, 'model': {'fcnet_hiddens': [256, 256], 'fcnet_activation': 'tanh', 'fcnet_weights_initializer': None, 'fcnet_weights_initializer_config': None, 'fcnet_bias_initializer': None, 'fcnet_bias_initializer_config': None, 'conv_filters': None, 'conv_activation': 'relu', 'conv_kernel_initializer': None, 'conv_kernel_initializer_config': None, 'conv_bias_initializer': None, 'conv_bias_initializer_config': None, 'conv_transpose_kernel_initializer': None, 'conv_transpose_kernel_initializer_config': None, 'conv_transpose_bias_initializer': None, 'conv_transpose_bias_initializer_config': None, 'post_fcnet_hiddens': [], 'post_fcnet_activation': 'relu', 'post_fcnet_weights_initializer': None, 'post_fcnet_weights_initializer_config': None, 'post_fcnet_bias_initializer': None, 'post_fcnet_bias_initializer_config': None, 'free_log_std': False, 'log_std_clip_param': 20.0, 'no_final_linear': False, 'vf_share_layers': False, 'use_lstm': False, 'max_seq_len': 20, 'lstm_cell_size': 256, 'lstm_use_prev_action': False, 'lstm_use_prev_reward': False, 'lstm_weights_initializer': None, 'lstm_weights_initializer_config': None, 'lstm_bias_initializer': None, 'lstm_bias_initializer_config': None, '_time_major': False, 'use_attention': False, 'attention_num_transformer_units': 1, 'attention_dim': 64, 'attention_num_heads': 1, 'attention_head_dim': 32, 'attention_memory_inference': 50, 'attention_memory_training': 50, 'attention_position_wise_mlp_dim': 32, 'attention_init_gru_gate_bias': 2.0, 'attention_use_n_prev_actions': 0, 'attention_use_n_prev_rewards': 0, 'framestack': True, 'dim': 84, 'grayscale': False, 'zero_mean': True, 'custom_model': None, 'custom_model_config': {}, 'custom_action_dist': None, 'custom_preprocessor': None, 'encoder_latent_dim': None, 'always_check_shapes': False, 'lstm_use_prev_action_reward': -1, '_use_default_native_models': -1, '_disable_preprocessor_api': False, '_disable_action_flattening': False}, '_learner_connector': None, 'add_default_connectors_to_learner_pipeline': True, 'learner_config_dict': {}, 'optimizer': {}, '_learner_class': None, 'explore': True, 'enable_rl_module_and_learner': False, 'enable_env_runner_and_connector_v2': False, '_prior_exploration_config': None, 'count_steps_by': 'env_steps', 'policy_map_capacity': 100, 'policy_mapping_fn': <function AlgorithmConfig.DEFAULT_POLICY_MAPPING_FN at 0x7d12bb8e5510>, 'policies_to_train': None, 'policy_states_are_swappable': False, 'observation_fn': None, 'input_read_method': 'read_parquet', 'input_read_method_kwargs': {}, 'input_read_schema': {}, 'input_read_episodes': False, 'input_read_sample_batches': False, 'input_read_batch_size': None, 'input_filesystem': None, 'input_filesystem_kwargs': {}, 'input_compress_columns': ['obs', 'new_obs'], 'input_spaces_jsonable': True, 'materialize_data': False, 'materialize_mapped_data': True, 'map_batches_kwargs': {}, 'iter_batches_kwargs': {}, 'prelearner_class': None, 'prelearner_buffer_class': None, 'prelearner_buffer_kwargs': {}, 'prelearner_module_synch_period': 10, 'dataset_num_iters_per_learner': None, 'input_config': {}, 'actions_in_input_normalized': False, 'postprocess_inputs': False, 'shuffle_buffer_size': 0, 'output': None, 'output_config': {}, 'output_compress_columns': ['obs', 'new_obs'], 'output_max_file_size': 67108864, 'output_max_rows_per_file': None, 'output_write_method': 'write_parquet', 'output_write_method_kwargs': {}, 'output_filesystem': None, 'output_filesystem_kwargs': {}, 'output_write_episodes': True, 'offline_sampling': False, 'evaluation_interval': None, 'evaluation_duration': 10, 'evaluation_duration_unit': 'episodes', 'evaluation_sample_timeout_s': 120.0, 'evaluation_parallel_to_training': False, 'evaluation_force_reset_envs_before_iteration': True, 'evaluation_config': None, 'off_policy_estimation_methods': {}, 'ope_split_batch_by_episode': True, 'evaluation_num_env_runners': 0, 'in_evaluation': False, 'sync_filters_on_rollout_workers_timeout_s': 10.0, 'keep_per_episode_custom_metrics': False, 'metrics_episode_collection_timeout_s': 60.0, 'metrics_num_episodes_for_smoothing': 100, 'min_time_s_per_iteration': None, 'min_train_timesteps_per_iteration': 0, 'min_sample_timesteps_per_iteration': 0, 'log_gradients': True, 'export_native_model_files': False, 'checkpoint_trainable_policies_only': False, 'logger_creator': None, 'logger_config': None, 'log_level': 'WARN', 'log_sys_usage': True, 'fake_sampler': False, 'seed': None, '_run_training_always_in_thread': False, '_evaluation_parallel_to_training_wo_thread': False, 'restart_failed_env_runners': True, 'ignore_env_runner_failures': False, 'max_num_env_runner_restarts': 1000, 'delay_between_env_runner_restarts_s': 60.0, 'restart_failed_sub_environments': False, 'num_consecutive_env_runner_failures_tolerance': 100, 'env_runner_health_probe_timeout_s': 30.0, 'env_runner_restore_timeout_s': 1800.0, '_model_config': {}, '_rl_module_spec': None, 'algorithm_config_overrides_per_module': {}, '_per_module_overrides': {}, '_torch_grad_scaler_class': None, '_torch_lr_scheduler_classes': None, '_tf_policy_handles_more_than_one_loss': False, '_disable_preprocessor_api': False, '_disable_action_flattening': False, '_disable_initialize_loss_from_dummy_batch': False, '_dont_auto_sync_env_runner_states': False, 'enable_connectors': -1, 'simple_optimizer': False, 'policy_map_cache': -1, 'worker_cls': -1, 'synchronize_filters': -1, 'enable_async_evaluation': -1, 'custom_async_evaluation_function': -1, '_enable_rl_module_api': -1, 'auto_wrap_old_gym_envs': -1, 'always_attach_evaluation_results': -1, 'replay_sequence_length': None, '_disable_execution_plan_api': -1, 'use_critic': True, 'use_gae': True, 'use_kl_loss': True, 'kl_coeff': 0.2, 'kl_target': 0.01, 'vf_loss_coeff': 0.5, 'entropy_coeff': 0.001, 'clip_param': 0.2, 'vf_clip_param': 10.0, 'entropy_coeff_schedule': None, 'lr_schedule': None, 'sgd_minibatch_size': 32, 'vf_share_layers': -1, 'num_sgd_iter': 1, 'shuffle_sequences': True, 'class': <class 'ray.rllib.algorithms.ppo.ppo.PPOConfig'>, 'lambda': 0.9, 'input': 'sampler', 'policies': {'default_policy': (None, None, None, None)}, 'callbacks': <class 'ray.rllib.algorithms.callbacks.DefaultCallbacks'>, 'create_env_on_driver': False, 'custom_eval_function': None, 'framework': 'torch'}, 'time_since_restore': 2038.6079742908478, 'iterations_since_restore': 100, 'perf': {'cpu_util_percent': 78.58275862068965, 'ram_util_percent': 23.513793103448275}})\n"
     ]
    }
   ],
   "source": [
    "# Δημιουργία απόλυτου μονοπατιού\n",
    "checkpoint_path = os.path.abspath('./ppo_lunarlander_model')\n",
    "\n",
    "# Αποθήκευση του εκπαιδευμένου πράκτορα\n",
    "checkpoint_dir = agent.save(checkpoint_path)\n",
    "print(f\"Model saved at: {checkpoint_dir}\")"
   ]
  },
  {
   "cell_type": "markdown",
   "metadata": {
    "id": "q5ZTkDFbOoxz"
   },
   "source": [
    "### Testing the agent and saving the top 3 attempts as an MP4 video.\n",
    "### Δοκιμή του πράκτορα και αποθήκευση των 3 καλύτερων προσπαθειών σε μορφή βίντεο MP4."
   ]
  },
  {
   "cell_type": "code",
   "execution_count": 9,
   "metadata": {
    "colab": {
     "base_uri": "https://localhost:8080/"
    },
    "id": "WJGRv_5Do7ir",
    "outputId": "604c08bf-d952-4c3c-f87c-13f5e08599be"
   },
   "outputs": [
    {
     "name": "stderr",
     "output_type": "stream",
     "text": [
      "2024-12-17 12:22:09,318\tINFO worker.py:1821 -- Started a local Ray instance.\n",
      "2024-12-17 12:22:35,789\tINFO trainable.py:161 -- Trainable.setup took 23.005 seconds. If your trainable is slow to initialize, consider setting reuse_actors=True to reduce actor creation overheads.\n",
      "2024-12-17 12:22:35,792\tWARNING util.py:61 -- Install gputil for GPU system monitoring.\n",
      "2024-12-17 12:22:35,852\tINFO trainable.py:583 -- Restored on 172.28.0.12 from checkpoint: Checkpoint(filesystem=local, path=/content/ppo_lunarlander_model)\n"
     ]
    },
    {
     "name": "stdout",
     "output_type": "stream",
     "text": [
      "Model loaded from: /content/ppo_lunarlander_model\n",
      "Test 1: Total Reward = 287.52815694943513\n",
      "Test 2: Total Reward = 216.7424508366777\n",
      "Test 3: Total Reward = 191.16764723195433\n",
      "Test 4: Total Reward = 81.76747982184797\n",
      "Test 5: Total Reward = 206.2047240149751\n",
      "Test 6: Total Reward = 250.54010210455274\n",
      "Test 7: Total Reward = 275.910370418071\n",
      "Test 8: Total Reward = 222.6383847283338\n",
      "Test 9: Total Reward = 219.46094218418818\n",
      "Test 10: Total Reward = -37.43035310514719\n",
      "Included episode with Reward = 287.52815694943513\n",
      "Included episode with Reward = 275.910370418071\n",
      "Included episode with Reward = 250.54010210455274\n"
     ]
    },
    {
     "name": "stderr",
     "output_type": "stream",
     "text": [
      "WARNING:imageio_ffmpeg:IMAGEIO FFMPEG_WRITER WARNING: input image is not divisible by macro_block_size=16, resizing from (600, 400) to (608, 400) to ensure video compatibility with most codecs and players. To prevent resizing, make your input image divisible by the macro_block_size or set the macro_block_size to 1 (risking incompatibility).\n"
     ]
    },
    {
     "name": "stdout",
     "output_type": "stream",
     "text": [
      "Combined video saved successfully at: ./output/lunarlander_best3.mp4\n"
     ]
    }
   ],
   "source": [
    "# Εκκίνηση του Ray\n",
    "ray.shutdown()\n",
    "ray.init()\n",
    "\n",
    "# Δημιουργία config για τον πράκτορα\n",
    "config = PPOConfig()\n",
    "config = config.environment(\"LunarLander-v3\")\n",
    "config = config.framework(\"torch\")\n",
    "\n",
    "# Απενεργοποίηση του νέου API stack\n",
    "config.api_stack(enable_rl_module_and_learner=False, enable_env_runner_and_connector_v2=False)\n",
    "\n",
    "# Επαναδημιουργία του πράκτορα και φόρτωση του checkpoint\n",
    "agent = config.build()\n",
    "checkpoint_path = os.path.abspath('./ppo_lunarlander_model')\n",
    "agent.restore(checkpoint_path)\n",
    "print(f\"Model loaded from: {checkpoint_path}\")\n",
    "\n",
    "# Ρύθμιση περιβάλλοντος\n",
    "os.makedirs(\"./output\", exist_ok=True)  # Δημιουργία φακέλου αν δεν υπάρχει\n",
    "env = gym.make(\"LunarLander-v3\", render_mode=\"rgb_array\")\n",
    "\n",
    "# Λίστα για αποθήκευση των rewards και των frames\n",
    "results = []\n",
    "\n",
    "# Εκτέλεση 10 επεισοδίων\n",
    "for test_idx in range(10):\n",
    "    frames = []\n",
    "    observation, info = env.reset()\n",
    "    total_reward = 0\n",
    "    done = False\n",
    "\n",
    "    while not done:\n",
    "        action = agent.compute_single_action(observation)  # Επιλογή δράσης\n",
    "        observation, reward, terminated, truncated, info = env.step(action)  # Εκτέλεση δράσης\n",
    "        total_reward += reward  # Προσθήκη στο συνολικό reward\n",
    "        frames.append(env.render())  # Καταγραφή καρέ\n",
    "\n",
    "        if terminated or truncated:\n",
    "            done = True\n",
    "\n",
    "    results.append((total_reward, frames))  # Αποθήκευση reward και καρέ για κάθε δοκιμή\n",
    "    print(f\"Test {test_idx + 1}: Total Reward = {total_reward}\")\n",
    "\n",
    "env.close()\n",
    "\n",
    "# Ταξινόμηση των αποτελεσμάτων με βάση το reward (φθίνουσα σειρά)\n",
    "results.sort(key=lambda x: x[0], reverse=True)\n",
    "\n",
    "# Συνένωση των καρέ από τα 3 καλύτερα επεισόδια\n",
    "combined_frames = []\n",
    "for reward, frames in results[:3]:\n",
    "    combined_frames.extend(frames)  # Συγκέντρωση όλων των καρέ\n",
    "    print(f\"Included episode with Reward = {reward}\")\n",
    "\n",
    "# Αποθήκευση του ενιαίου βίντεο\n",
    "output_video_path = \"./output/lunarlander_best3.mp4\"\n",
    "with imageio.get_writer(output_video_path, fps=30) as video:\n",
    "    for frame in combined_frames:\n",
    "        video.append_data(frame)\n",
    "\n",
    "print(f\"Combined video saved successfully at: {output_video_path}\")"
   ]
  },
  {
   "cell_type": "markdown",
   "metadata": {},
   "source": [
    "### End!\n",
    "### Τέλος!"
   ]
  }
 ],
 "metadata": {
  "accelerator": "GPU",
  "colab": {
   "gpuType": "T4",
   "provenance": []
  },
  "kernelspec": {
   "display_name": "Python 3",
   "name": "python3"
  },
  "language_info": {
   "name": "python"
  }
 },
 "nbformat": 4,
 "nbformat_minor": 0
}
