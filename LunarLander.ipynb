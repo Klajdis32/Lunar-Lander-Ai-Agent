{
 "cells": [
  {
   "cell_type": "markdown",
   "metadata": {
    "id": "WkqiuKzzKM9k"
   },
   "source": [
    "### Installation of packages/libraries\n",
    "### Εγκατάσταση πακέτων/βιβλιοθηκών"
   ]
  },
  {
   "cell_type": "code",
   "execution_count": null,
   "metadata": {
    "colab": {
     "base_uri": "https://localhost:8080/"
    },
    "id": "my1uNAFA2Zs5",
    "outputId": "a29e26d1-43af-4b1c-e23f-c70eee1b699d"
   },
   "outputs": [],
   "source": [
    "!pip install swig"
   ]
  },
  {
   "cell_type": "code",
   "execution_count": null,
   "metadata": {
    "colab": {
     "base_uri": "https://localhost:8080/"
    },
    "id": "EZxBhYxg2cXr",
    "outputId": "6a9a0cc3-f3a8-4158-bb93-ae6606839932"
   },
   "outputs": [],
   "source": [
    "!pip install gymnasium[box2d]"
   ]
  },
  {
   "cell_type": "code",
   "execution_count": null,
   "metadata": {
    "colab": {
     "base_uri": "https://localhost:8080/"
    },
    "id": "5wxfIoSE2uHU",
    "outputId": "7882bc65-d858-4d23-d2c2-6a15068e0119"
   },
   "outputs": [],
   "source": [
    "!pip install ray[rllib]"
   ]
  },
  {
   "cell_type": "code",
   "execution_count": null,
   "metadata": {
    "colab": {
     "base_uri": "https://localhost:8080/"
    },
    "id": "YuVUtf3N2zai",
    "outputId": "e52863a1-e92b-4cfe-f40a-2ee36fd0a83a"
   },
   "outputs": [],
   "source": [
    "!pip install renderlab"
   ]
  },
  {
   "cell_type": "markdown",
   "metadata": {
    "id": "fGSM-op7KjLw"
   },
   "source": [
    "### Importing libraries \n",
    "### Εισαγωγή βιβλιοθηκών"
   ]
  },
  {
   "cell_type": "code",
   "execution_count": 5,
   "metadata": {
    "colab": {
     "base_uri": "https://localhost:8080/"
    },
    "id": "O9kTea6X3cMB",
    "outputId": "9d713948-1782-43e8-f47b-6ec090a6cf69"
   },
   "outputs": [
    {
     "name": "stderr",
     "output_type": "stream",
     "text": [
      "WARNING:py.warnings:/usr/local/lib/python3.10/dist-packages/moviepy/video/io/sliders.py:61: SyntaxWarning: \"is\" with a literal. Did you mean \"==\"?\n",
      "  if event.key is 'enter':\n",
      "\n"
     ]
    }
   ],
   "source": [
    "import gymnasium as gym\n",
    "import ray\n",
    "import matplotlib.pyplot as plt\n",
    "import torch\n",
    "import os\n",
    "import renderlab as rl\n",
    "import imageio\n",
    "from moviepy.editor import VideoFileClip, concatenate_videoclips\n",
    "from ray.rllib.algorithms.ppo import PPOConfig, PPO"
   ]
  },
  {
   "cell_type": "markdown",
   "metadata": {
    "id": "LPQwGwxlLVx3"
   },
   "source": [
    "### Initialization of Ray and creation of a PPO agent using PyTorch for the LunarLander-v3 environment, with configuration of training hyperparameters.\n",
    "\n",
    "### Αρχικοποίηση του Ray και δημιουργία πράκτορα PPO με χρήση PyTorch για το περιβάλλον LunarLander-v3, με ρύθμιση των υπερπαραμέτρων εκπαίδευσης."
   ]
  },
  {
   "cell_type": "code",
   "execution_count": 6,
   "metadata": {
    "colab": {
     "base_uri": "https://localhost:8080/"
    },
    "id": "JLfLHvPk3iCp",
    "outputId": "28b5af3d-914a-4d30-d061-d38e36574055"
   },
   "outputs": [
    {
     "name": "stderr",
     "output_type": "stream",
     "text": [
      "2024-12-17 11:45:10,934\tINFO worker.py:1821 -- Started a local Ray instance.\n",
      "2024-12-17 11:45:39,724\tINFO trainable.py:161 -- Trainable.setup took 25.687 seconds. If your trainable is slow to initialize, consider setting reuse_actors=True to reduce actor creation overheads.\n",
      "2024-12-17 11:45:39,726\tWARNING util.py:61 -- Install gputil for GPU system monitoring.\n"
     ]
    }
   ],
   "source": [
    "ray.shutdown()\n",
    "ray.init()\n",
    "\n",
    "config = PPOConfig()\n",
    "config.use_critic = True\n",
    "config.use_gae = True\n",
    "config.lambda_ = 0.9\n",
    "config.use_kl_loss = True\n",
    "config.sgd_minibatch_size = 32\n",
    "config.num_sgd_iter = 1\n",
    "config.shuffle_sequences = True\n",
    "config.vf_loss_coeff = 0.5\n",
    "config.entropy_coeff = 0.001\n",
    "config.clip_param = 0.2\n",
    "\n",
    "# Απενεργοποίηση του νέου API stack\n",
    "config.api_stack(enable_rl_module_and_learner=False, enable_env_runner_and_connector_v2=False)\n",
    "\n",
    "config = config.environment(\"LunarLander-v3\")\n",
    "config = config.framework(\"torch\")\n",
    "\n",
    "agent = config.build()"
   ]
  },
  {
   "cell_type": "markdown",
   "metadata": {
    "id": "eChcSsVRLrc5"
   },
   "source": [
    "### Execution of 100 training iterations for the agent, recording the average rewards per iteration in a list, and creating a plot to visualize the improvement of rewards during training. \n",
    "\n",
    "### Εκτέλεση 100 training iterations για τον πράκτορα, καταγραφή των μέσων ανταμοιβών ανά iteration σε λίστα και δημιουργία διαγράμματος για την απεικόνιση της βελτίωσης των ανταμοιβών κατά τη διάρκεια της εκπαίδευσης."
   ]
  },
  {
   "cell_type": "code",
   "execution_count": 7,
   "metadata": {
    "colab": {
     "base_uri": "https://localhost:8080/",
     "height": 1000
    },
    "id": "0XnUKrVFD-H0",
    "outputId": "d6e65174-367d-400d-9023-1c8982dc50fa"
   },
   "outputs": [
    {
     "name": "stderr",
     "output_type": "stream",
     "text": [
      "2024-12-17 11:46:19,507\tWARNING deprecation.py:50 -- DeprecationWarning: `ray.rllib.execution.train_ops.multi_gpu_train_one_step` has been deprecated. This will raise an error in the future!\n"
     ]
    },
    {
     "name": "stdout",
     "output_type": "stream",
     "text": [
      "Iteration 1, Average Rewards: -168.24110057896894\n",
      "Iteration 2, Average Rewards: -155.80553547590623\n",
      "Iteration 3, Average Rewards: -145.14148865977435\n",
      "Iteration 4, Average Rewards: -132.14385740331576\n",
      "Iteration 5, Average Rewards: -120.00289407210876\n",
      "Iteration 6, Average Rewards: -104.14069442476917\n",
      "Iteration 7, Average Rewards: -99.24053078218694\n",
      "Iteration 8, Average Rewards: -103.4033344532294\n",
      "Iteration 9, Average Rewards: -98.10518520652387\n",
      "Iteration 10, Average Rewards: -97.37477638246509\n",
      "Iteration 11, Average Rewards: -91.52454664438582\n",
      "Iteration 12, Average Rewards: -91.53298823575817\n",
      "Iteration 13, Average Rewards: -84.73991715068082\n",
      "Iteration 14, Average Rewards: -77.84908607988157\n",
      "Iteration 15, Average Rewards: -70.91640142022096\n",
      "Iteration 16, Average Rewards: -67.28061206616093\n",
      "Iteration 17, Average Rewards: -63.697055877077\n",
      "Iteration 18, Average Rewards: -57.00238471419293\n",
      "Iteration 19, Average Rewards: -52.6781486702093\n",
      "Iteration 20, Average Rewards: -47.561547693668075\n",
      "Iteration 21, Average Rewards: -41.1465856525826\n",
      "Iteration 22, Average Rewards: -37.24182412526762\n",
      "Iteration 23, Average Rewards: -34.553979724060085\n",
      "Iteration 24, Average Rewards: -27.41798343213035\n",
      "Iteration 25, Average Rewards: -20.913210630898238\n",
      "Iteration 26, Average Rewards: -19.40519730253717\n",
      "Iteration 27, Average Rewards: -18.405945343201864\n",
      "Iteration 28, Average Rewards: -7.828913340085182\n",
      "Iteration 29, Average Rewards: -0.9635002002548703\n",
      "Iteration 30, Average Rewards: 10.593390162460516\n",
      "Iteration 31, Average Rewards: 19.533130546208106\n",
      "Iteration 32, Average Rewards: 23.20142505622488\n",
      "Iteration 33, Average Rewards: 30.157325540756364\n",
      "Iteration 34, Average Rewards: 39.991402868030484\n",
      "Iteration 35, Average Rewards: 45.87480594013726\n",
      "Iteration 36, Average Rewards: 50.95446342921796\n",
      "Iteration 37, Average Rewards: 55.03121316785763\n",
      "Iteration 38, Average Rewards: 58.31327895837448\n",
      "Iteration 39, Average Rewards: 60.811691236830974\n",
      "Iteration 40, Average Rewards: 65.33055697186381\n",
      "Iteration 41, Average Rewards: 68.32571884954105\n",
      "Iteration 42, Average Rewards: 72.4116588984403\n",
      "Iteration 43, Average Rewards: 74.64428884889995\n",
      "Iteration 44, Average Rewards: 77.27342685795088\n",
      "Iteration 45, Average Rewards: 78.59343762008444\n",
      "Iteration 46, Average Rewards: 80.6352786861363\n",
      "Iteration 47, Average Rewards: 87.18000489745891\n",
      "Iteration 48, Average Rewards: 90.21956822387997\n",
      "Iteration 49, Average Rewards: 91.111543748715\n",
      "Iteration 50, Average Rewards: 92.05151690025366\n",
      "Iteration 51, Average Rewards: 95.29723446930934\n",
      "Iteration 52, Average Rewards: 95.91609026031105\n",
      "Iteration 53, Average Rewards: 101.39965470279685\n",
      "Iteration 54, Average Rewards: 100.56911535436258\n",
      "Iteration 55, Average Rewards: 98.08087755278005\n",
      "Iteration 56, Average Rewards: 102.82547285623097\n",
      "Iteration 57, Average Rewards: 107.0755053616254\n",
      "Iteration 58, Average Rewards: 105.30311490103558\n",
      "Iteration 59, Average Rewards: 104.84333884859059\n",
      "Iteration 60, Average Rewards: 109.93063810362104\n",
      "Iteration 61, Average Rewards: 110.30424219881624\n",
      "Iteration 62, Average Rewards: 111.6390670468777\n",
      "Iteration 63, Average Rewards: 114.12181868418298\n",
      "Iteration 64, Average Rewards: 116.22700937560721\n",
      "Iteration 65, Average Rewards: 120.37224612209393\n",
      "Iteration 66, Average Rewards: 121.24129040646123\n",
      "Iteration 67, Average Rewards: 129.51689523864513\n",
      "Iteration 68, Average Rewards: 128.9646884689586\n",
      "Iteration 69, Average Rewards: 129.69908860474783\n",
      "Iteration 70, Average Rewards: 131.67103886222074\n",
      "Iteration 71, Average Rewards: 135.3243150786262\n",
      "Iteration 72, Average Rewards: 137.3503777246606\n",
      "Iteration 73, Average Rewards: 140.93041637727418\n",
      "Iteration 74, Average Rewards: 136.7644159404595\n",
      "Iteration 75, Average Rewards: 142.02773081599605\n",
      "Iteration 76, Average Rewards: 140.95185871627257\n",
      "Iteration 77, Average Rewards: 143.44119802416884\n",
      "Iteration 78, Average Rewards: 141.23684219845106\n",
      "Iteration 79, Average Rewards: 142.8081586731353\n",
      "Iteration 80, Average Rewards: 143.15789854224153\n",
      "Iteration 81, Average Rewards: 139.25381857291543\n",
      "Iteration 82, Average Rewards: 139.63276932861547\n",
      "Iteration 83, Average Rewards: 134.2278746174124\n",
      "Iteration 84, Average Rewards: 122.08760505560225\n",
      "Iteration 85, Average Rewards: 121.20649301597537\n",
      "Iteration 86, Average Rewards: 122.17497746492569\n",
      "Iteration 87, Average Rewards: 128.27474774848883\n",
      "Iteration 88, Average Rewards: 134.18235404428913\n",
      "Iteration 89, Average Rewards: 134.83585943273684\n",
      "Iteration 90, Average Rewards: 141.954791066427\n",
      "Iteration 91, Average Rewards: 142.97571498952087\n",
      "Iteration 92, Average Rewards: 138.1318019909768\n",
      "Iteration 93, Average Rewards: 134.6728697180439\n",
      "Iteration 94, Average Rewards: 130.9541534298849\n",
      "Iteration 95, Average Rewards: 133.40095589940904\n",
      "Iteration 96, Average Rewards: 143.88317883386236\n",
      "Iteration 97, Average Rewards: 145.18388565924405\n",
      "Iteration 98, Average Rewards: 149.2922160090317\n",
      "Iteration 99, Average Rewards: 143.98511569960698\n",
      "Iteration 100, Average Rewards: 136.41454645470156\n"
     ]
    },
    {
     "data": {
      "image/png": "[encoded data removed]",
      "text/plain": [
       "<Figure size 640x480 with 1 Axes>"
      ]
     },
     "metadata": {},
     "output_type": "display_data"
    }
   ],
   "source": [
    "# Αριθμός training iterations\n",
    "train_iterations = 100\n",
    "\n",
    "# Λίστα για την αποθήκευση των μέσων ανταμοιβών\n",
    "average_rewards_per_iteration = []\n",
    "\n",
    "for i in range(train_iterations):\n",
    "    result = agent.train()  # Εκτέλεση ενός training iteration\n",
    "    average_rewards = result[\"env_runners\"][\"episode_return_mean\"]  # Μέσο reward για αυτό το iteration\n",
    "    average_rewards_per_iteration.append(average_rewards)\n",
    "\n",
    "    print(f\"Iteration {i + 1}, Average Rewards: {average_rewards}\")\n",
    "\n",
    "# Plot των μέσων ανταμοιβών\n",
    "plt.plot(average_rewards_per_iteration)\n",
    "plt.title('PPO LunarLander-v3')\n",
    "plt.xlabel('Iterations')\n",
    "plt.ylabel('Average Rewards')\n",
    "plt.show()"
   ]
  },
  {
   "cell_type": "markdown",
   "metadata": {
    "id": "m2EwCFErOilL"
   },
   "source": [
    "### Saving the agent \n",
    "### Αποθήκευση πράκτορα"
   ]
  },
  {
   "cell_type": "code",
   "execution_count": null,
   "metadata": {
    "colab": {
     "base_uri": "https://localhost:8080/"
    },
    "id": "VydSWiMYTsGP",
    "outputId": "9b8b69b2-517b-406d-b23d-94e1ad7157cc"
   },
   "outputs": [],
   "source": [
    "# Δημιουργία απόλυτου μονοπατιού\n",
    "checkpoint_path = os.path.abspath('./ppo_lunarlander_model')\n",
    "\n",
    "# Αποθήκευση του εκπαιδευμένου πράκτορα\n",
    "checkpoint_dir = agent.save(checkpoint_path)\n",
    "print(f\"Model saved at: {checkpoint_dir}\")"
   ]
  },
  {
   "cell_type": "markdown",
   "metadata": {
    "id": "q5ZTkDFbOoxz"
   },
   "source": [
    "### Testing the agent and saving the top 3 attempts as an MP4 video.\n",
    "### Δοκιμή του πράκτορα και αποθήκευση των 3 καλύτερων προσπαθειών σε μορφή βίντεο MP4."
   ]
  },
  {
   "cell_type": "code",
   "execution_count": 9,
   "metadata": {
    "colab": {
     "base_uri": "https://localhost:8080/"
    },
    "id": "WJGRv_5Do7ir",
    "outputId": "604c08bf-d952-4c3c-f87c-13f5e08599be"
   },
   "outputs": [
    {
     "name": "stderr",
     "output_type": "stream",
     "text": [
      "2024-12-17 12:22:09,318\tINFO worker.py:1821 -- Started a local Ray instance.\n",
      "2024-12-17 12:22:35,789\tINFO trainable.py:161 -- Trainable.setup took 23.005 seconds. If your trainable is slow to initialize, consider setting reuse_actors=True to reduce actor creation overheads.\n",
      "2024-12-17 12:22:35,792\tWARNING util.py:61 -- Install gputil for GPU system monitoring.\n",
      "2024-12-17 12:22:35,852\tINFO trainable.py:583 -- Restored on 172.28.0.12 from checkpoint: Checkpoint(filesystem=local, path=/content/ppo_lunarlander_model)\n"
     ]
    },
    {
     "name": "stdout",
     "output_type": "stream",
     "text": [
      "Model loaded from: /content/ppo_lunarlander_model\n",
      "Test 1: Total Reward = 287.52815694943513\n",
      "Test 2: Total Reward = 216.7424508366777\n",
      "Test 3: Total Reward = 191.16764723195433\n",
      "Test 4: Total Reward = 81.76747982184797\n",
      "Test 5: Total Reward = 206.2047240149751\n",
      "Test 6: Total Reward = 250.54010210455274\n",
      "Test 7: Total Reward = 275.910370418071\n",
      "Test 8: Total Reward = 222.6383847283338\n",
      "Test 9: Total Reward = 219.46094218418818\n",
      "Test 10: Total Reward = -37.43035310514719\n",
      "Included episode with Reward = 287.52815694943513\n",
      "Included episode with Reward = 275.910370418071\n",
      "Included episode with Reward = 250.54010210455274\n"
     ]
    },
    {
     "name": "stderr",
     "output_type": "stream",
     "text": [
      "WARNING:imageio_ffmpeg:IMAGEIO FFMPEG_WRITER WARNING: input image is not divisible by macro_block_size=16, resizing from (600, 400) to (608, 400) to ensure video compatibility with most codecs and players. To prevent resizing, make your input image divisible by the macro_block_size or set the macro_block_size to 1 (risking incompatibility).\n"
     ]
    },
    {
     "name": "stdout",
     "output_type": "stream",
     "text": [
      "Combined video saved successfully at: ./output/lunarlander_best3.mp4\n"
     ]
    }
   ],
   "source": [
    "# Εκκίνηση του Ray\n",
    "ray.shutdown()\n",
    "ray.init()\n",
    "\n",
    "# Δημιουργία config για τον πράκτορα\n",
    "config = PPOConfig()\n",
    "config = config.environment(\"LunarLander-v3\")\n",
    "config = config.framework(\"torch\")\n",
    "\n",
    "# Απενεργοποίηση του νέου API stack\n",
    "config.api_stack(enable_rl_module_and_learner=False, enable_env_runner_and_connector_v2=False)\n",
    "\n",
    "# Επαναδημιουργία του πράκτορα και φόρτωση του checkpoint\n",
    "agent = config.build()\n",
    "checkpoint_path = os.path.abspath('./ppo_lunarlander_model')\n",
    "agent.restore(checkpoint_path)\n",
    "print(f\"Model loaded from: {checkpoint_path}\")\n",
    "\n",
    "# Ρύθμιση περιβάλλοντος\n",
    "os.makedirs(\"./output\", exist_ok=True)  # Δημιουργία φακέλου αν δεν υπάρχει\n",
    "env = gym.make(\"LunarLander-v3\", render_mode=\"rgb_array\")\n",
    "\n",
    "# Λίστα για αποθήκευση των rewards και των frames\n",
    "results = []\n",
    "\n",
    "# Εκτέλεση 10 επεισοδίων\n",
    "for test_idx in range(10):\n",
    "    frames = []\n",
    "    observation, info = env.reset()\n",
    "    total_reward = 0\n",
    "    done = False\n",
    "\n",
    "    while not done:\n",
    "        action = agent.compute_single_action(observation)  # Επιλογή δράσης\n",
    "        observation, reward, terminated, truncated, info = env.step(action)  # Εκτέλεση δράσης\n",
    "        total_reward += reward  # Προσθήκη στο συνολικό reward\n",
    "        frames.append(env.render())  # Καταγραφή καρέ\n",
    "\n",
    "        if terminated or truncated:\n",
    "            done = True\n",
    "\n",
    "    results.append((total_reward, frames))  # Αποθήκευση reward και καρέ για κάθε δοκιμή\n",
    "    print(f\"Test {test_idx + 1}: Total Reward = {total_reward}\")\n",
    "\n",
    "env.close()\n",
    "\n",
    "# Ταξινόμηση των αποτελεσμάτων με βάση το reward (φθίνουσα σειρά)\n",
    "results.sort(key=lambda x: x[0], reverse=True)\n",
    "\n",
    "# Συνένωση των καρέ από τα 3 καλύτερα επεισόδια\n",
    "combined_frames = []\n",
    "for reward, frames in results[:3]:\n",
    "    combined_frames.extend(frames)  # Συγκέντρωση όλων των καρέ\n",
    "    print(f\"Included episode with Reward = {reward}\")\n",
    "\n",
    "# Αποθήκευση του ενιαίου βίντεο\n",
    "output_video_path = \"./output/lunarlander_best3.mp4\"\n",
    "with imageio.get_writer(output_video_path, fps=30) as video:\n",
    "    for frame in combined_frames:\n",
    "        video.append_data(frame)\n",
    "\n",
    "print(f\"Combined video saved successfully at: {output_video_path}\")"
   ]
  },
  {
   "cell_type": "markdown",
   "metadata": {},
   "source": [
    "### End!\n",
    "### Τέλος!"
   ]
  }
 ],
 "metadata": {
  "accelerator": "GPU",
  "colab": {
   "gpuType": "T4",
   "provenance": []
  },
  "kernelspec": {
   "display_name": "Python 3",
   "name": "python3"
  },
  "language_info": {
   "name": "python"
  }
 },
 "nbformat": 4,
 "nbformat_minor": 0
}
